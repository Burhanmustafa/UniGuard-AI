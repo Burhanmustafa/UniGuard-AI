{
 "cells": [
  {
   "cell_type": "code",
   "execution_count": 1,
   "id": "ea3cd5a4",
   "metadata": {},
   "outputs": [
    {
     "name": "stdout",
     "output_type": "stream",
     "text": [
      "Burnout class distribution:\n",
      "burnout\n",
      "0    82.5%\n",
      "1    17.5%\n",
      "Name: proportion, dtype: object\n"
     ]
    }
   ],
   "source": [
    "import pandas as pd\n",
    "\n",
    "# Load your data\n",
    "df = pd.read_csv(\"UniGuard_student_data.csv\")\n",
    "\n",
    "# Check distribution of the 'burnout' column\n",
    "burnout_distribution = df[\"burnout\"].value_counts(normalize=True)\n",
    "\n",
    "# Show results as percentages\n",
    "print(\"Burnout class distribution:\")\n",
    "print((burnout_distribution * 100).round(2).astype(str) + \"%\")\n"
   ]
  }
 ],
 "metadata": {
  "kernelspec": {
   "display_name": "venv",
   "language": "python",
   "name": "python3"
  },
  "language_info": {
   "codemirror_mode": {
    "name": "ipython",
    "version": 3
   },
   "file_extension": ".py",
   "mimetype": "text/x-python",
   "name": "python",
   "nbconvert_exporter": "python",
   "pygments_lexer": "ipython3",
   "version": "3.13.3"
  }
 },
 "nbformat": 4,
 "nbformat_minor": 5
}
